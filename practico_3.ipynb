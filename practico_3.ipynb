{
 "cells": [
  {
   "cell_type": "markdown",
   "metadata": {},
   "source": [
    "# Redes Neuronales: Práctico 3\n",
    "\n",
    "## Ejercicio A\n",
    "\n",
    "Implementá una red feed-forward auto-encoder con una capa oculta para aprender la función identidad\n",
    "con la base de datos MNIST de dígitos escritos a mano y digitalizados. La red debe tener 784 unidades de\n",
    "entrada (pues los dígitos tienen 28 por 28 píxeles), una capa oculta de 64 neuronas y una capa de salida\n",
    "de 784 neuronas. Usá la función de error cuadrático medio para el descenso por el gradiente estocástico\n",
    "(SGD), implementá dropout con p = 0.1 y minibatch de tamaño 1000. Recordá que la base MNIST tiene\n",
    "60000 imágenes en el conjunto de entrenamiento y 10000 imágenes en el conjunto de test.\n",
    "Graficá el Error en función de las épocas y la función tanto para el aprendizaje como para el\n",
    "testeo. \n",
    "\n",
    "Presentá los gráficos que creas necesarios para convencerme de que anda bien."
   ]
  },
  {
   "cell_type": "markdown",
   "metadata": {},
   "source": [
    "Para completar el práctico vamos a utilizar el dataset de MNIST que ya viene cargado en Keras."
   ]
  },
  {
   "cell_type": "code",
   "execution_count": 9,
   "metadata": {},
   "outputs": [],
   "source": [
    "import keras\n",
    "from keras import layers\n",
    "from keras.datasets import mnist\n",
    "from keras.models import Sequential\n",
    "from keras.optimizers import SGD\n",
    "import numpy as np\n",
    "# Debemos cargar los conjuntos de train y de test de acuerdo a la documentación.\n",
    "(x_train, y_train), (x_test, y_test) = mnist.load_data()"
   ]
  },
  {
   "cell_type": "code",
   "execution_count": 10,
   "metadata": {},
   "outputs": [],
   "source": [
    "# Dimension de la hidden layer\n",
    "encoder_dim = 64\n",
    "autoenc = Sequential()\n",
    "\n",
    "# Vamos a recibir un objeto con 784 elementos (28x28 pixeles), con cuidado de agregar una dimensión vacía\n",
    "# Debe ser del tipo Dropout\n",
    "autoenc.add(layers.Dropout(0.1, input_shape=(784,)))\n",
    "\n",
    "# Usamos RELU como función de activación para este caso.\n",
    "autoenc.add(layers.Dense(encoder_dim, activation=\"relu\"))\n",
    "# Capa de \"decodificacion\", recibe 784, usamos activación sigmoide.\n",
    "autoenc.add(layers.Dense(784, activation=\"sigmoid\"))"
   ]
  },
  {
   "cell_type": "code",
   "execution_count": 11,
   "metadata": {},
   "outputs": [],
   "source": [
    "# Compilamos todo junto, eligiendo nuestro optimizador y la función de pérdida\n",
    "autoenc.compile(optimizer=\"sgd\", loss=\"mean_squared_error\")"
   ]
  },
  {
   "cell_type": "code",
   "execution_count": 12,
   "metadata": {},
   "outputs": [
    {
     "name": "stdout",
     "output_type": "stream",
     "text": [
      "Forma de los datos al empezar: x_train = (60000, 28, 28), x_test = (10000, 28, 28)\n",
      "Forma de los datos al terminar: x_train = (60000, 784), x_test = (10000, 784)\n"
     ]
    }
   ],
   "source": [
    "# Preprocesamos los datos\n",
    "\n",
    "# Tenemos que normalizar para lograr mejores resultados, vamos a llevar todo desde los valores [0,255] a [0, 1]\n",
    "x_train = x_train / 255.0\n",
    "x_test = x_test / 255.0\n",
    "print(f\"Forma de los datos al empezar: x_train = {x_train.shape}, x_test = {x_test.shape}\")\n",
    "\n",
    "# Tenemos que hacer nuestro input chato, las imágenes de MNIST vienen como matrices 28x28\n",
    "x_train = x_train.reshape((x_train.shape[0], np.prod(x_train.shape[1:])))\n",
    "x_test = x_test.reshape((x_test.shape[0], np.prod(x_test.shape[1:])))\n",
    "print(f\"Forma de los datos al terminar: x_train = {x_train.shape}, x_test = {x_test.shape}\")\n"
   ]
  },
  {
   "cell_type": "code",
   "execution_count": 13,
   "metadata": {},
   "outputs": [
    {
     "name": "stdout",
     "output_type": "stream",
     "text": [
      "Epoch 1/25\n",
      "1875/1875 - 3s - loss: 0.2274\n",
      "Epoch 2/25\n",
      "1875/1875 - 3s - loss: 0.2131\n",
      "Epoch 3/25\n",
      "1875/1875 - 2s - loss: 0.1794\n",
      "Epoch 4/25\n",
      "1875/1875 - 2s - loss: 0.1316\n",
      "Epoch 5/25\n",
      "1875/1875 - 3s - loss: 0.0990\n",
      "Epoch 6/25\n",
      "1875/1875 - 2s - loss: 0.0850\n",
      "Epoch 7/25\n",
      "1875/1875 - 2s - loss: 0.0791\n",
      "Epoch 8/25\n",
      "1875/1875 - 2s - loss: 0.0762\n",
      "Epoch 9/25\n",
      "1875/1875 - 2s - loss: 0.0745\n",
      "Epoch 10/25\n",
      "1875/1875 - 2s - loss: 0.0734\n",
      "Epoch 11/25\n",
      "1875/1875 - 2s - loss: 0.0726\n",
      "Epoch 12/25\n",
      "1875/1875 - 2s - loss: 0.0720\n",
      "Epoch 13/25\n",
      "1875/1875 - 3s - loss: 0.0716\n",
      "Epoch 14/25\n",
      "1875/1875 - 2s - loss: 0.0712\n",
      "Epoch 15/25\n",
      "1875/1875 - 2s - loss: 0.0709\n",
      "Epoch 16/25\n",
      "1875/1875 - 2s - loss: 0.0706\n",
      "Epoch 17/25\n",
      "1875/1875 - 2s - loss: 0.0703\n",
      "Epoch 18/25\n",
      "1875/1875 - 2s - loss: 0.0700\n",
      "Epoch 19/25\n",
      "1875/1875 - 2s - loss: 0.0698\n",
      "Epoch 20/25\n",
      "1875/1875 - 2s - loss: 0.0696\n",
      "Epoch 21/25\n",
      "1875/1875 - 2s - loss: 0.0694\n",
      "Epoch 22/25\n",
      "1875/1875 - 2s - loss: 0.0691\n",
      "Epoch 23/25\n",
      "1875/1875 - 2s - loss: 0.0689\n",
      "Epoch 24/25\n",
      "1875/1875 - 3s - loss: 0.0687\n",
      "Epoch 25/25\n",
      "1875/1875 - 2s - loss: 0.0685\n"
     ]
    },
    {
     "data": {
      "text/plain": [
       "<tensorflow.python.keras.callbacks.History at 0x7faaed803390>"
      ]
     },
     "execution_count": 13,
     "metadata": {},
     "output_type": "execute_result"
    }
   ],
   "source": [
    "# Entrenamos el autoencoder,\n",
    "autoenc.fit(\n",
    "    x_train, x_train,\n",
    "    epochs=25,\n",
    "    verbose=2\n",
    ")"
   ]
  },
  {
   "cell_type": "code",
   "execution_count": 14,
   "metadata": {},
   "outputs": [],
   "source": [
    "# Vamos a chequear con algunas imágenes si esto funciona\n",
    "import matplotlib.pyplot as plt\n",
    "predicted = autoenc.predict(x_test)\n",
    "def plot_n_random_digits(n=10):\n",
    "    plt.figure(figsize=(20, 4))\n",
    "    for idx in range(n):\n",
    "        ax = plt.subplot(2, n, idx + 1)\n",
    "        random_idx = np.random.randint(0, x_test.shape[0]-1)\n",
    "        plt.imshow(x_test[random_idx].reshape(28, 28))\n",
    "        plt.gray()\n",
    "        ax.get_xaxis().set_visible(False)\n",
    "        ax.get_yaxis().set_visible(False)\n",
    "\n",
    "        ax = plt.subplot(2, n, idx + 1 + n)\n",
    "        plt.imshow(predicted[random_idx].reshape(28, 28))\n",
    "        plt.gray()\n",
    "        ax.get_xaxis().set_visible(False)\n",
    "        ax.get_yaxis().set_visible(False)\n",
    "\n",
    "    plt.show()"
   ]
  },
  {
   "cell_type": "code",
   "execution_count": 15,
   "metadata": {},
   "outputs": [
    {
     "data": {
      "image/png": "[encoded data removed]",
      "text/plain": [
       "<Figure size 1440x288 with 20 Axes>"
      ]
     },
     "metadata": {
      "needs_background": "light"
     },
     "output_type": "display_data"
    }
   ],
   "source": [
    "plot_n_random_digits()"
   ]
  },
  {
   "cell_type": "code",
   "execution_count": 16,
   "metadata": {},
   "outputs": [
    {
     "name": "stdout",
     "output_type": "stream",
     "text": [
      "Model: \"sequential_1\"\n",
      "_________________________________________________________________\n",
      "Layer (type)                 Output Shape              Param #   \n",
      "=================================================================\n",
      "dropout_1 (Dropout)          (None, 784)               0         \n",
      "_________________________________________________________________\n",
      "dense_2 (Dense)              (None, 64)                50240     \n",
      "_________________________________________________________________\n",
      "dense_3 (Dense)              (None, 784)               50960     \n",
      "=================================================================\n",
      "Total params: 101,200\n",
      "Trainable params: 101,200\n",
      "Non-trainable params: 0\n",
      "_________________________________________________________________\n"
     ]
    }
   ],
   "source": [
    "autoenc.summary()"
   ]
  },
  {
   "cell_type": "code",
   "execution_count": null,
   "metadata": {},
   "outputs": [],
   "source": []
  }
 ],
 "metadata": {
  "kernelspec": {
   "display_name": "Python [conda env:diplodatos] *",
   "language": "python",
   "name": "conda-env-diplodatos-py"
  },
  "language_info": {
   "codemirror_mode": {
    "name": "ipython",
    "version": 3
   },
   "file_extension": ".py",
   "mimetype": "text/x-python",
   "name": "python",
   "nbconvert_exporter": "python",
   "pygments_lexer": "ipython3",
   "version": "3.6.8"
  }
 },
 "nbformat": 4,
 "nbformat_minor": 2
}
